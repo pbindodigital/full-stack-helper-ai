{
 "cells": [
  {
   "cell_type": "markdown",
   "metadata": {},
   "source": [
    "# Bring Your Own Checkpoint (BYOC) to SamabaStudio "
   ]
  },
  {
   "cell_type": "markdown",
   "metadata": {},
   "source": [
    "Example checkpoint download from Huggingface"
   ]
  },
  {
   "cell_type": "code",
   "execution_count": null,
   "metadata": {},
   "outputs": [],
   "source": [
    "import os\n",
    "from huggingface_hub import hf_hub_download, HfApi\n",
    "\n",
    "model_name = \"NousResearch/Hermes-2-Theta-Llama-3-8B\"  # Replace with your desired model\n",
    "\n",
    "target_dir = \"./models\"  \n",
    "os.makedirs(target_dir, exist_ok=True)\n",
    "\n",
    "repo_files = HfApi().list_repo_files(model_name)\n",
    "\n",
    "for file_name in repo_files:\n",
    "    hf_hub_download(repo_id=model_name, filename=file_name, cache_dir=target_dir)"
   ]
  },
  {
   "cell_type": "markdown",
   "metadata": {},
   "source": [
    "After download, modify [config.yaml](./config.yaml) file with the snapshot of the model and required parameters\n",
    "\n",
    "check at the `chat_template` key in the [tokenizer_config.json](./models/models--NousResearch--Hermes-2-Theta-Llama-3-8B/snapshots/57a73110702e7b05ba3f39fef36297454c680725/tokenizer_config.json) file inside the model snapshot and modify it to follow a chat jinja template like this:\n",
    "\n",
    "```json\n",
    "  \"chat_template\": \"{% set loop_messages = messages %}{% for message in loop_messages %}{% set content = '<|im_start|>'' + message['role'] + '\\n'+ message['content'] | trim + '<|im_end|>' %}{% if loop.index0 == 0 %}{% set content = bos_token + content %}{% endif %}{{ content }}{% endfor %}{% if add_generation_prompt %}{{ '<|im_start|>assistant\\n' }}{% endif %}\"\n",
    "```"
   ]
  },
  {
   "cell_type": "markdown",
   "metadata": {},
   "source": [
    "Set BYOC object with checkpoints to upload config"
   ]
  },
  {
   "cell_type": "code",
   "execution_count": 1,
   "metadata": {},
   "outputs": [
    {
     "name": "stderr",
     "output_type": "stream",
     "text": [
      "2024-11-05 09:32:02,869 [INFO] Using config file located in ./config.yaml\n",
      "2024-11-05 09:32:02,876 [INFO] Using variables from Snapi config to set up Snsdk.\n"
     ]
    }
   ],
   "source": [
    "from src.snsdk_byoc_wrapper import BYOC\n",
    "byoc = BYOC(\"./config.yaml\")"
   ]
  },
  {
   "cell_type": "markdown",
   "metadata": {},
   "source": [
    "Get params from checkpoints paths set in [config.yaml](./config.yaml) file"
   ]
  },
  {
   "cell_type": "code",
   "execution_count": 8,
   "metadata": {},
   "outputs": [
    {
     "name": "stderr",
     "output_type": "stream",
     "text": [
      "2024-11-05 09:22:23,299 [INFO] Params for checkpoint in ./models/models--NousResearch--Hermes-2-Theta-Llama-3-8B/snapshots/57a73110702e7b05ba3f39fef36297454c680725:\n",
      "[{'model_arch': 'llama', 'seq_length': 8192, 'vocab_size': 128256}]\n",
      "2024-11-05 09:22:23,300 [INFO] config updated with checkpoints parameters\n",
      "2024-11-05 09:22:23,306 [INFO] config file updated with checkpoints parameters\n"
     ]
    }
   ],
   "source": [
    "byoc.find_config_params(update_config_file=True)"
   ]
  },
  {
   "cell_type": "markdown",
   "metadata": {},
   "source": [
    "Find suitable SambaStudio apps for your checkpoints"
   ]
  },
  {
   "cell_type": "code",
   "execution_count": 9,
   "metadata": {},
   "outputs": [
    {
     "name": "stderr",
     "output_type": "stream",
     "text": [
      "2024-11-05 09:28:18,067 [INFO] Checkpoint HermesProInstructV10 suitable apps:\n",
      "{'id': '61fa0993-04a2-42ca-9db1-1eff693ea978', 'name': 'Samba1 Llama3 Experts'}\n",
      "{'id': 'ad39e323-9878-4914-8e29-82c9f2939475', 'name': 'Llama 3'}\n"
     ]
    }
   ],
   "source": [
    "byoc.get_suitable_apps()"
   ]
  },
  {
   "cell_type": "markdown",
   "metadata": {},
   "source": [
    "Set in the `app_id` key of your checkpoint in the [config.yaml](./config.yaml) file the desired app_id of your checkpoints"
   ]
  },
  {
   "cell_type": "markdown",
   "metadata": {},
   "source": [
    "Upload the checkpoints in your [config.yaml](./config.yaml) file to SambaStudio (this could take from minutes to hours depending on the size of your checkpoints)"
   ]
  },
  {
   "cell_type": "code",
   "execution_count": 10,
   "metadata": {},
   "outputs": [
    {
     "name": "stderr",
     "output_type": "stream",
     "text": [
      "2024-11-04 13:44:12,763 [INFO] Using config file located in ./config.yaml\n",
      "2024-11-04 13:44:12,765 [INFO] Using variables from Snapi config to set up Snsdk.\n"
     ]
    }
   ],
   "source": [
    "#load the updated config.yaml file including app ids and model params\n",
    "byoc = BYOC(\"./config.yaml\")"
   ]
  },
  {
   "cell_type": "code",
   "execution_count": 4,
   "metadata": {},
   "outputs": [
    {
     "name": "stderr",
     "output_type": "stream",
     "text": [
      "2024-11-01 15:01:30,911 [INFO] Model with name 'HermesProInstructv10' not found\n",
      "2024-11-01 15:01:31,098 [INFO] App with name '61fa0993-04a2-42ca-9db1-1eff693ea978' found with id 61fa0993-04a2-42ca-9db1-1eff693ea978\n",
      "2024-11-01 16:53:44,293 [ERROR] Error uploading model checkpoint Process returned a non-zero exit code.\n",
      "2024-11-01 16:53:44,296 [ERROR] urllib3.exceptions.SSLError: EOF occurred in violation of protocol (_ssl.c:2423)\n",
      "\n",
      "The above exception was the direct cause of the following exception:\n",
      "\n",
      "Traceback (most recent call last):\n",
      "  File \"/Users/jorgep/Documents/ask_public_own/snapienv/lib/python3.11/site-packages/requests/adapters.py\", line 667, in send\n",
      "    resp = conn.urlopen(\n",
      "           ^^^^^^^^^^^^^\n",
      "  File \"/Users/jorgep/Documents/ask_public_own/snapienv/lib/python3.11/site-packages/urllib3/connectionpool.py\", line 843, in urlopen\n",
      "    retries = retries.increment(\n",
      "              ^^^^^^^^^^^^^^^^^^\n",
      "  File \"/Users/jorgep/Documents/ask_public_own/snapienv/lib/python3.11/site-packages/urllib3/util/retry.py\", line 519, in increment\n",
      "    raise MaxRetryError(_pool, url, reason) from reason  # type: ignore[arg-type]\n",
      "    ^^^^^^^^^^^^^^^^^^^^^^^^^^^^^^^^^^^^^^^^^^^^^^^^^^^\n",
      "urllib3.exceptions.MaxRetryError: HTTPSConnectionPool(host='sjc3-tsstage.sambanova.net', port=443): Max retries exceeded with url: /api/v1beta/upload/file/model-00002-of-00004.safetensors?partNumber=132&uploadId=2841a628-dd48-4aec-8bc6-98b51f86f916&folderId=b8c69dfa-a91d-4424-8387-eaee3e3fb167 (Caused by SSLError(SSLEOFError(8, 'EOF occurred in violation of protocol (_ssl.c:2423)')))\n",
      "\n",
      "During handling of the above exception, another exception occurred:\n",
      "\n",
      "Traceback (most recent call last):\n",
      "  File \"/Users/jorgep/Documents/ask_public_own/snapienv/lib/python3.11/site-packages/snapi/utils/parallel_upload.py\", line 75, in wrapper_retry\n",
      "    return func(*args, **kwargs)\n",
      "           ^^^^^^^^^^^^^^^^^^^^^\n",
      "  File \"/Users/jorgep/Documents/ask_public_own/snapienv/lib/python3.11/site-packages/snapi/utils/parallel_upload.py\", line 388, in _upload_file_helper\n",
      "    upload_part_file_result = ctx.obj.upload_part_file(**task_args, upload_id=upload_id)\n",
      "                              ^^^^^^^^^^^^^^^^^^^^^^^^^^^^^^^^^^^^^^^^^^^^^^^^^^^^^^^^^^\n",
      "  File \"/Users/jorgep/Documents/ask_public_own/snapienv/lib/python3.11/site-packages/snsdk/__init__.py\", line 649, in upload_part_file\n",
      "    response = req_session.put(url, headers=headers, data=file, timeout=(20, 60), verify=False) #TODO\n",
      "               ^^^^^^^^^^^^^^^^^^^^^^^^^^^^^^^^^^^^^^^^^^^^^^^^^^^^^^^^^^^^^^^^^^^^^^^^^^^^^^^^\n",
      "  File \"/Users/jorgep/Documents/ask_public_own/snapienv/lib/python3.11/site-packages/requests/sessions.py\", line 649, in put\n",
      "    return self.request(\"PUT\", url, data=data, **kwargs)\n",
      "           ^^^^^^^^^^^^^^^^^^^^^^^^^^^^^^^^^^^^^^^^^^^^^\n",
      "  File \"/Users/jorgep/Documents/ask_public_own/snapienv/lib/python3.11/site-packages/requests/sessions.py\", line 589, in request\n",
      "    resp = self.send(prep, **send_kwargs)\n",
      "           ^^^^^^^^^^^^^^^^^^^^^^^^^^^^^^\n",
      "  File \"/Users/jorgep/Documents/ask_public_own/snapienv/lib/python3.11/site-packages/requests/sessions.py\", line 703, in send\n",
      "    r = adapter.send(request, **kwargs)\n",
      "        ^^^^^^^^^^^^^^^^^^^^^^^^^^^^^^^\n",
      "  File \"/Users/jorgep/Documents/ask_public_own/snapienv/lib/python3.11/site-packages/requests/adapters.py\", line 698, in send\n",
      "    raise SSLError(e, request=request)\n",
      "requests.exceptions.SSLError: HTTPSConnectionPool(host='sjc3-tsstage.sambanova.net', port=443): Max retries exceeded with url: /api/v1beta/upload/file/model-00002-of-00004.safetensors?partNumber=132&uploadId=2841a628-dd48-4aec-8bc6-98b51f86f916&folderId=b8c69dfa-a91d-4424-8387-eaee3e3fb167 (Caused by SSLError(SSLEOFError(8, 'EOF occurred in violation of protocol (_ssl.c:2423)')))\n",
      "\n",
      "The above exception was the direct cause of the following exception:\n",
      "\n",
      "Traceback (most recent call last):\n",
      "  File \"/Users/jorgep/Documents/ask_public_own/snapienv/lib/python3.11/site-packages/snapi/utils/parallel_upload.py\", line 326, in _execute_task\n",
      "    result = upload_part_file(ctx, task_args, typer, progress)\n",
      "             ^^^^^^^^^^^^^^^^^^^^^^^^^^^^^^^^^^^^^^^^^^^^^^^^^\n",
      "  File \"/Users/jorgep/Documents/ask_public_own/snapienv/lib/python3.11/site-packages/snapi/utils/parallel_upload.py\", line 426, in upload_part_file\n",
      "    raise e\n",
      "  File \"/Users/jorgep/Documents/ask_public_own/snapienv/lib/python3.11/site-packages/snapi/utils/parallel_upload.py\", line 419, in upload_part_file\n",
      "    upload_part_file_result = _upload_file_helper(ctx, task_args, upload_id)\n",
      "                              ^^^^^^^^^^^^^^^^^^^^^^^^^^^^^^^^^^^^^^^^^^^^^^\n",
      "  File \"/Users/jorgep/Documents/ask_public_own/snapienv/lib/python3.11/site-packages/snapi/utils/parallel_upload.py\", line 79, in wrapper_retry\n",
      "    raise UploadError(\"Max retries exceeded\") from e\n",
      "snapi.utils.parallel_upload.UploadError: Max retries exceeded\n",
      "joblib.externals.loky.process_executor._RemoteTraceback: \n",
      "\"\"\"\n",
      "urllib3.exceptions.SSLError: EOF occurred in violation of protocol (_ssl.c:2423)\n",
      "\n",
      "The above exception was the direct cause of the following exception:\n",
      "\n",
      "Traceback (most recent call last):\n",
      "  File \"/Users/jorgep/Documents/ask_public_own/snapienv/lib/python3.11/site-packages/requests/adapters.py\", line 667, in send\n",
      "    resp = conn.urlopen(\n",
      "           ^^^^^^^^^^^^^\n",
      "  File \"/Users/jorgep/Documents/ask_public_own/snapienv/lib/python3.11/site-packages/urllib3/connectionpool.py\", line 843, in urlopen\n",
      "    retries = retries.increment(\n",
      "              ^^^^^^^^^^^^^^^^^^\n",
      "  File \"/Users/jorgep/Documents/ask_public_own/snapienv/lib/python3.11/site-packages/urllib3/util/retry.py\", line 519, in increment\n",
      "    raise MaxRetryError(_pool, url, reason) from reason  # type: ignore[arg-type]\n",
      "    ^^^^^^^^^^^^^^^^^^^^^^^^^^^^^^^^^^^^^^^^^^^^^^^^^^^\n",
      "urllib3.exceptions.MaxRetryError: HTTPSConnectionPool(host='sjc3-tsstage.sambanova.net', port=443): Max retries exceeded with url: /api/v1beta/upload/file/model-00002-of-00004.safetensors?partNumber=132&uploadId=2841a628-dd48-4aec-8bc6-98b51f86f916&folderId=b8c69dfa-a91d-4424-8387-eaee3e3fb167 (Caused by SSLError(SSLEOFError(8, 'EOF occurred in violation of protocol (_ssl.c:2423)')))\n",
      "\n",
      "During handling of the above exception, another exception occurred:\n",
      "\n",
      "Traceback (most recent call last):\n",
      "  File \"/Users/jorgep/Documents/ask_public_own/snapienv/lib/python3.11/site-packages/snapi/utils/parallel_upload.py\", line 75, in wrapper_retry\n",
      "    return func(*args, **kwargs)\n",
      "           ^^^^^^^^^^^^^^^^^^^^^\n",
      "  File \"/Users/jorgep/Documents/ask_public_own/snapienv/lib/python3.11/site-packages/snapi/utils/parallel_upload.py\", line 388, in _upload_file_helper\n",
      "    upload_part_file_result = ctx.obj.upload_part_file(**task_args, upload_id=upload_id)\n",
      "                              ^^^^^^^^^^^^^^^^^^^^^^^^^^^^^^^^^^^^^^^^^^^^^^^^^^^^^^^^^^\n",
      "  File \"/Users/jorgep/Documents/ask_public_own/snapienv/lib/python3.11/site-packages/snsdk/__init__.py\", line 649, in upload_part_file\n",
      "    response = req_session.put(url, headers=headers, data=file, timeout=(20, 60), verify=False) #TODO\n",
      "               ^^^^^^^^^^^^^^^^^^^^^^^^^^^^^^^^^^^^^^^^^^^^^^^^^^^^^^^^^^^^^^^^^^^^^^^^^^^^^^^^\n",
      "  File \"/Users/jorgep/Documents/ask_public_own/snapienv/lib/python3.11/site-packages/requests/sessions.py\", line 649, in put\n",
      "    return self.request(\"PUT\", url, data=data, **kwargs)\n",
      "           ^^^^^^^^^^^^^^^^^^^^^^^^^^^^^^^^^^^^^^^^^^^^^\n",
      "  File \"/Users/jorgep/Documents/ask_public_own/snapienv/lib/python3.11/site-packages/requests/sessions.py\", line 589, in request\n",
      "    resp = self.send(prep, **send_kwargs)\n",
      "           ^^^^^^^^^^^^^^^^^^^^^^^^^^^^^^\n",
      "  File \"/Users/jorgep/Documents/ask_public_own/snapienv/lib/python3.11/site-packages/requests/sessions.py\", line 703, in send\n",
      "    r = adapter.send(request, **kwargs)\n",
      "        ^^^^^^^^^^^^^^^^^^^^^^^^^^^^^^^\n",
      "  File \"/Users/jorgep/Documents/ask_public_own/snapienv/lib/python3.11/site-packages/requests/adapters.py\", line 698, in send\n",
      "    raise SSLError(e, request=request)\n",
      "requests.exceptions.SSLError: HTTPSConnectionPool(host='sjc3-tsstage.sambanova.net', port=443): Max retries exceeded with url: /api/v1beta/upload/file/model-00002-of-00004.safetensors?partNumber=132&uploadId=2841a628-dd48-4aec-8bc6-98b51f86f916&folderId=b8c69dfa-a91d-4424-8387-eaee3e3fb167 (Caused by SSLError(SSLEOFError(8, 'EOF occurred in violation of protocol (_ssl.c:2423)')))\n",
      "\n",
      "The above exception was the direct cause of the following exception:\n",
      "\n",
      "Traceback (most recent call last):\n",
      "  File \"/Users/jorgep/Documents/ask_public_own/snapienv/lib/python3.11/site-packages/snapi/utils/parallel_upload.py\", line 326, in _execute_task\n",
      "    result = upload_part_file(ctx, task_args, typer, progress)\n",
      "             ^^^^^^^^^^^^^^^^^^^^^^^^^^^^^^^^^^^^^^^^^^^^^^^^^\n",
      "  File \"/Users/jorgep/Documents/ask_public_own/snapienv/lib/python3.11/site-packages/snapi/utils/parallel_upload.py\", line 426, in upload_part_file\n",
      "    raise e\n",
      "  File \"/Users/jorgep/Documents/ask_public_own/snapienv/lib/python3.11/site-packages/snapi/utils/parallel_upload.py\", line 419, in upload_part_file\n",
      "    upload_part_file_result = _upload_file_helper(ctx, task_args, upload_id)\n",
      "                              ^^^^^^^^^^^^^^^^^^^^^^^^^^^^^^^^^^^^^^^^^^^^^^\n",
      "  File \"/Users/jorgep/Documents/ask_public_own/snapienv/lib/python3.11/site-packages/snapi/utils/parallel_upload.py\", line 79, in wrapper_retry\n",
      "    raise UploadError(\"Max retries exceeded\") from e\n",
      "snapi.utils.parallel_upload.UploadError: Max retries exceeded\n",
      "\n",
      "The above exception was the direct cause of the following exception:\n",
      "\n",
      "Traceback (most recent call last):\n",
      "  File \"/Users/jorgep/Documents/ask_public_own/snapienv/lib/python3.11/site-packages/joblib/_utils.py\", line 72, in __call__\n",
      "    return self.func(**kwargs)\n",
      "           ^^^^^^^^^^^^^^^^^^^\n",
      "  File \"/Users/jorgep/Documents/ask_public_own/snapienv/lib/python3.11/site-packages/joblib/parallel.py\", line 598, in __call__\n",
      "    return [func(*args, **kwargs)\n",
      "           ^^^^^^^^^^^^^^^^^^^^^^\n",
      "  File \"/Users/jorgep/Documents/ask_public_own/snapienv/lib/python3.11/site-packages/joblib/parallel.py\", line 598, in <listcomp>\n",
      "    return [func(*args, **kwargs)\n",
      "            ^^^^^^^^^^^^^^^^^^^^^\n",
      "  File \"/Users/jorgep/Documents/ask_public_own/snapienv/lib/python3.11/site-packages/snapi/utils/parallel_upload.py\", line 335, in _execute_task\n",
      "    raise UploadError(f\"Error in executing task {log_task}\") from e\n",
      "snapi.utils.parallel_upload.UploadError: Error in executing task (<UploadTask.UPLOAD_PART_FILE: 'upload_part_file'>, {'folder_id': 'b8c69dfa-a91d-4424-8387-eaee3e3fb167', 'file_path': 'model-00002-of-00004.safetensors', 'part_number': 132, 'chunk_size': 8388608})\n",
      "\"\"\"\n",
      "\n",
      "The above exception was the direct cause of the following exception:\n",
      "\n",
      "Traceback (most recent call last):\n",
      "  File \"/Users/jorgep/Documents/ask_public_own/snapienv/lib/python3.11/site-packages/snapi/utils/parallel_upload.py\", line 129, in parallel_upload\n",
      "    Parallel(n_jobs=num_parallel, prefer=\"threads\")(\n",
      "  File \"/Users/jorgep/Documents/ask_public_own/snapienv/lib/python3.11/site-packages/joblib/parallel.py\", line 2007, in __call__\n",
      "    return output if self.return_generator else list(output)\n",
      "                                                ^^^^^^^^^^^^\n",
      "  File \"/Users/jorgep/Documents/ask_public_own/snapienv/lib/python3.11/site-packages/joblib/parallel.py\", line 1650, in _get_outputs\n",
      "    yield from self._retrieve()\n",
      "  File \"/Users/jorgep/Documents/ask_public_own/snapienv/lib/python3.11/site-packages/joblib/parallel.py\", line 1754, in _retrieve\n",
      "    self._raise_error_fast()\n",
      "  File \"/Users/jorgep/Documents/ask_public_own/snapienv/lib/python3.11/site-packages/joblib/parallel.py\", line 1789, in _raise_error_fast\n",
      "    error_job.get_result(self.timeout)\n",
      "  File \"/Users/jorgep/Documents/ask_public_own/snapienv/lib/python3.11/site-packages/joblib/parallel.py\", line 745, in get_result\n",
      "    return self._return_or_raise()\n",
      "           ^^^^^^^^^^^^^^^^^^^^^^^\n",
      "  File \"/Users/jorgep/Documents/ask_public_own/snapienv/lib/python3.11/site-packages/joblib/parallel.py\", line 763, in _return_or_raise\n",
      "    raise self._result\n",
      "snapi.utils.parallel_upload.UploadError: Error in executing task (<UploadTask.UPLOAD_PART_FILE: 'upload_part_file'>, {'folder_id': 'b8c69dfa-a91d-4424-8387-eaee3e3fb167', 'file_path': 'model-00002-of-00004.safetensors', 'part_number': 132, 'chunk_size': 8388608})\n",
      "\u001b[31mAborted.\u001b[0m\n",
      "\n",
      "2024-11-01 16:53:44,297 [ERROR] Error uploading checkpoint for model HermesProInstructv10: uploading model checkpoint: urllib3.exceptions.SSLError: EOF occurred in violation of protocol (_ssl.c:2423)\n",
      "\n",
      "The above exception was the direct cause of the following exception:\n",
      "\n",
      "Traceback (most recent call last):\n",
      "  File \"/Users/jorgep/Documents/ask_public_own/snapienv/lib/python3.11/site-packages/requests/adapters.py\", line 667, in send\n",
      "    resp = conn.urlopen(\n",
      "           ^^^^^^^^^^^^^\n",
      "  File \"/Users/jorgep/Documents/ask_public_own/snapienv/lib/python3.11/site-packages/urllib3/connectionpool.py\", line 843, in urlopen\n",
      "    retries = retries.increment(\n",
      "              ^^^^^^^^^^^^^^^^^^\n",
      "  File \"/Users/jorgep/Documents/ask_public_own/snapienv/lib/python3.11/site-packages/urllib3/util/retry.py\", line 519, in increment\n",
      "    raise MaxRetryError(_pool, url, reason) from reason  # type: ignore[arg-type]\n",
      "    ^^^^^^^^^^^^^^^^^^^^^^^^^^^^^^^^^^^^^^^^^^^^^^^^^^^\n",
      "urllib3.exceptions.MaxRetryError: HTTPSConnectionPool(host='sjc3-tsstage.sambanova.net', port=443): Max retries exceeded with url: /api/v1beta/upload/file/model-00002-of-00004.safetensors?partNumber=132&uploadId=2841a628-dd48-4aec-8bc6-98b51f86f916&folderId=b8c69dfa-a91d-4424-8387-eaee3e3fb167 (Caused by SSLError(SSLEOFError(8, 'EOF occurred in violation of protocol (_ssl.c:2423)')))\n",
      "\n",
      "During handling of the above exception, another exception occurred:\n",
      "\n",
      "Traceback (most recent call last):\n",
      "  File \"/Users/jorgep/Documents/ask_public_own/snapienv/lib/python3.11/site-packages/snapi/utils/parallel_upload.py\", line 75, in wrapper_retry\n",
      "    return func(*args, **kwargs)\n",
      "           ^^^^^^^^^^^^^^^^^^^^^\n",
      "  File \"/Users/jorgep/Documents/ask_public_own/snapienv/lib/python3.11/site-packages/snapi/utils/parallel_upload.py\", line 388, in _upload_file_helper\n",
      "    upload_part_file_result = ctx.obj.upload_part_file(**task_args, upload_id=upload_id)\n",
      "                              ^^^^^^^^^^^^^^^^^^^^^^^^^^^^^^^^^^^^^^^^^^^^^^^^^^^^^^^^^^\n",
      "  File \"/Users/jorgep/Documents/ask_public_own/snapienv/lib/python3.11/site-packages/snsdk/__init__.py\", line 649, in upload_part_file\n",
      "    response = req_session.put(url, headers=headers, data=file, timeout=(20, 60), verify=False) #TODO\n",
      "               ^^^^^^^^^^^^^^^^^^^^^^^^^^^^^^^^^^^^^^^^^^^^^^^^^^^^^^^^^^^^^^^^^^^^^^^^^^^^^^^^\n",
      "  File \"/Users/jorgep/Documents/ask_public_own/snapienv/lib/python3.11/site-packages/requests/sessions.py\", line 649, in put\n",
      "    return self.request(\"PUT\", url, data=data, **kwargs)\n",
      "           ^^^^^^^^^^^^^^^^^^^^^^^^^^^^^^^^^^^^^^^^^^^^^\n",
      "  File \"/Users/jorgep/Documents/ask_public_own/snapienv/lib/python3.11/site-packages/requests/sessions.py\", line 589, in request\n",
      "    resp = self.send(prep, **send_kwargs)\n",
      "           ^^^^^^^^^^^^^^^^^^^^^^^^^^^^^^\n",
      "  File \"/Users/jorgep/Documents/ask_public_own/snapienv/lib/python3.11/site-packages/requests/sessions.py\", line 703, in send\n",
      "    r = adapter.send(request, **kwargs)\n",
      "        ^^^^^^^^^^^^^^^^^^^^^^^^^^^^^^^\n",
      "  File \"/Users/jorgep/Documents/ask_public_own/snapienv/lib/python3.11/site-packages/requests/adapters.py\", line 698, in send\n",
      "    raise SSLError(e, request=request)\n",
      "requests.exceptions.SSLError: HTTPSConnectionPool(host='sjc3-tsstage.sambanova.net', port=443): Max retries exceeded with url: /api/v1beta/upload/file/model-00002-of-00004.safetensors?partNumber=132&uploadId=2841a628-dd48-4aec-8bc6-98b51f86f916&folderId=b8c69dfa-a91d-4424-8387-eaee3e3fb167 (Caused by SSLError(SSLEOFError(8, 'EOF occurred in violation of protocol (_ssl.c:2423)')))\n",
      "\n",
      "The above exception was the direct cause of the following exception:\n",
      "\n",
      "Traceback (most recent call last):\n",
      "  File \"/Users/jorgep/Documents/ask_public_own/snapienv/lib/python3.11/site-packages/snapi/utils/parallel_upload.py\", line 326, in _execute_task\n",
      "    result = upload_part_file(ctx, task_args, typer, progress)\n",
      "             ^^^^^^^^^^^^^^^^^^^^^^^^^^^^^^^^^^^^^^^^^^^^^^^^^\n",
      "  File \"/Users/jorgep/Documents/ask_public_own/snapienv/lib/python3.11/site-packages/snapi/utils/parallel_upload.py\", line 426, in upload_part_file\n",
      "    raise e\n",
      "  File \"/Users/jorgep/Documents/ask_public_own/snapienv/lib/python3.11/site-packages/snapi/utils/parallel_upload.py\", line 419, in upload_part_file\n",
      "    upload_part_file_result = _upload_file_helper(ctx, task_args, upload_id)\n",
      "                              ^^^^^^^^^^^^^^^^^^^^^^^^^^^^^^^^^^^^^^^^^^^^^^\n",
      "  File \"/Users/jorgep/Documents/ask_public_own/snapienv/lib/python3.11/site-packages/snapi/utils/parallel_upload.py\", line 79, in wrapper_retry\n",
      "    raise UploadError(\"Max retries exceeded\") from e\n",
      "snapi.utils.parallel_upload.UploadError: Max retries exceeded\n",
      "joblib.externals.loky.process_executor._RemoteTraceback: \n",
      "\"\"\"\n",
      "urllib3.exceptions.SSLError: EOF occurred in violation of protocol (_ssl.c:2423)\n",
      "\n",
      "The above exception was the direct cause of the following exception:\n",
      "\n",
      "Traceback (most recent call last):\n",
      "  File \"/Users/jorgep/Documents/ask_public_own/snapienv/lib/python3.11/site-packages/requests/adapters.py\", line 667, in send\n",
      "    resp = conn.urlopen(\n",
      "           ^^^^^^^^^^^^^\n",
      "  File \"/Users/jorgep/Documents/ask_public_own/snapienv/lib/python3.11/site-packages/urllib3/connectionpool.py\", line 843, in urlopen\n",
      "    retries = retries.increment(\n",
      "              ^^^^^^^^^^^^^^^^^^\n",
      "  File \"/Users/jorgep/Documents/ask_public_own/snapienv/lib/python3.11/site-packages/urllib3/util/retry.py\", line 519, in increment\n",
      "    raise MaxRetryError(_pool, url, reason) from reason  # type: ignore[arg-type]\n",
      "    ^^^^^^^^^^^^^^^^^^^^^^^^^^^^^^^^^^^^^^^^^^^^^^^^^^^\n",
      "urllib3.exceptions.MaxRetryError: HTTPSConnectionPool(host='sjc3-tsstage.sambanova.net', port=443): Max retries exceeded with url: /api/v1beta/upload/file/model-00002-of-00004.safetensors?partNumber=132&uploadId=2841a628-dd48-4aec-8bc6-98b51f86f916&folderId=b8c69dfa-a91d-4424-8387-eaee3e3fb167 (Caused by SSLError(SSLEOFError(8, 'EOF occurred in violation of protocol (_ssl.c:2423)')))\n",
      "\n",
      "During handling of the above exception, another exception occurred:\n",
      "\n",
      "Traceback (most recent call last):\n",
      "  File \"/Users/jorgep/Documents/ask_public_own/snapienv/lib/python3.11/site-packages/snapi/utils/parallel_upload.py\", line 75, in wrapper_retry\n",
      "    return func(*args, **kwargs)\n",
      "           ^^^^^^^^^^^^^^^^^^^^^\n",
      "  File \"/Users/jorgep/Documents/ask_public_own/snapienv/lib/python3.11/site-packages/snapi/utils/parallel_upload.py\", line 388, in _upload_file_helper\n",
      "    upload_part_file_result = ctx.obj.upload_part_file(**task_args, upload_id=upload_id)\n",
      "                              ^^^^^^^^^^^^^^^^^^^^^^^^^^^^^^^^^^^^^^^^^^^^^^^^^^^^^^^^^^\n",
      "  File \"/Users/jorgep/Documents/ask_public_own/snapienv/lib/python3.11/site-packages/snsdk/__init__.py\", line 649, in upload_part_file\n",
      "    response = req_session.put(url, headers=headers, data=file, timeout=(20, 60), verify=False) #TODO\n",
      "               ^^^^^^^^^^^^^^^^^^^^^^^^^^^^^^^^^^^^^^^^^^^^^^^^^^^^^^^^^^^^^^^^^^^^^^^^^^^^^^^^\n",
      "  File \"/Users/jorgep/Documents/ask_public_own/snapienv/lib/python3.11/site-packages/requests/sessions.py\", line 649, in put\n",
      "    return self.request(\"PUT\", url, data=data, **kwargs)\n",
      "           ^^^^^^^^^^^^^^^^^^^^^^^^^^^^^^^^^^^^^^^^^^^^^\n",
      "  File \"/Users/jorgep/Documents/ask_public_own/snapienv/lib/python3.11/site-packages/requests/sessions.py\", line 589, in request\n",
      "    resp = self.send(prep, **send_kwargs)\n",
      "           ^^^^^^^^^^^^^^^^^^^^^^^^^^^^^^\n",
      "  File \"/Users/jorgep/Documents/ask_public_own/snapienv/lib/python3.11/site-packages/requests/sessions.py\", line 703, in send\n",
      "    r = adapter.send(request, **kwargs)\n",
      "        ^^^^^^^^^^^^^^^^^^^^^^^^^^^^^^^\n",
      "  File \"/Users/jorgep/Documents/ask_public_own/snapienv/lib/python3.11/site-packages/requests/adapters.py\", line 698, in send\n",
      "    raise SSLError(e, request=request)\n",
      "requests.exceptions.SSLError: HTTPSConnectionPool(host='sjc3-tsstage.sambanova.net', port=443): Max retries exceeded with url: /api/v1beta/upload/file/model-00002-of-00004.safetensors?partNumber=132&uploadId=2841a628-dd48-4aec-8bc6-98b51f86f916&folderId=b8c69dfa-a91d-4424-8387-eaee3e3fb167 (Caused by SSLError(SSLEOFError(8, 'EOF occurred in violation of protocol (_ssl.c:2423)')))\n",
      "\n",
      "The above exception was the direct cause of the following exception:\n",
      "\n",
      "Traceback (most recent call last):\n",
      "  File \"/Users/jorgep/Documents/ask_public_own/snapienv/lib/python3.11/site-packages/snapi/utils/parallel_upload.py\", line 326, in _execute_task\n",
      "    result = upload_part_file(ctx, task_args, typer, progress)\n",
      "             ^^^^^^^^^^^^^^^^^^^^^^^^^^^^^^^^^^^^^^^^^^^^^^^^^\n",
      "  File \"/Users/jorgep/Documents/ask_public_own/snapienv/lib/python3.11/site-packages/snapi/utils/parallel_upload.py\", line 426, in upload_part_file\n",
      "    raise e\n",
      "  File \"/Users/jorgep/Documents/ask_public_own/snapienv/lib/python3.11/site-packages/snapi/utils/parallel_upload.py\", line 419, in upload_part_file\n",
      "    upload_part_file_result = _upload_file_helper(ctx, task_args, upload_id)\n",
      "                              ^^^^^^^^^^^^^^^^^^^^^^^^^^^^^^^^^^^^^^^^^^^^^^\n",
      "  File \"/Users/jorgep/Documents/ask_public_own/snapienv/lib/python3.11/site-packages/snapi/utils/parallel_upload.py\", line 79, in wrapper_retry\n",
      "    raise UploadError(\"Max retries exceeded\") from e\n",
      "snapi.utils.parallel_upload.UploadError: Max retries exceeded\n",
      "\n",
      "The above exception was the direct cause of the following exception:\n",
      "\n",
      "Traceback (most recent call last):\n",
      "  File \"/Users/jorgep/Documents/ask_public_own/snapienv/lib/python3.11/site-packages/joblib/_utils.py\", line 72, in __call__\n",
      "    return self.func(**kwargs)\n",
      "           ^^^^^^^^^^^^^^^^^^^\n",
      "  File \"/Users/jorgep/Documents/ask_public_own/snapienv/lib/python3.11/site-packages/joblib/parallel.py\", line 598, in __call__\n",
      "    return [func(*args, **kwargs)\n",
      "           ^^^^^^^^^^^^^^^^^^^^^^\n",
      "  File \"/Users/jorgep/Documents/ask_public_own/snapienv/lib/python3.11/site-packages/joblib/parallel.py\", line 598, in <listcomp>\n",
      "    return [func(*args, **kwargs)\n",
      "            ^^^^^^^^^^^^^^^^^^^^^\n",
      "  File \"/Users/jorgep/Documents/ask_public_own/snapienv/lib/python3.11/site-packages/snapi/utils/parallel_upload.py\", line 335, in _execute_task\n",
      "    raise UploadError(f\"Error in executing task {log_task}\") from e\n",
      "snapi.utils.parallel_upload.UploadError: Error in executing task (<UploadTask.UPLOAD_PART_FILE: 'upload_part_file'>, {'folder_id': 'b8c69dfa-a91d-4424-8387-eaee3e3fb167', 'file_path': 'model-00002-of-00004.safetensors', 'part_number': 132, 'chunk_size': 8388608})\n",
      "\"\"\"\n",
      "\n",
      "The above exception was the direct cause of the following exception:\n",
      "\n",
      "Traceback (most recent call last):\n",
      "  File \"/Users/jorgep/Documents/ask_public_own/snapienv/lib/python3.11/site-packages/snapi/utils/parallel_upload.py\", line 129, in parallel_upload\n",
      "    Parallel(n_jobs=num_parallel, prefer=\"threads\")(\n",
      "  File \"/Users/jorgep/Documents/ask_public_own/snapienv/lib/python3.11/site-packages/joblib/parallel.py\", line 2007, in __call__\n",
      "    return output if self.return_generator else list(output)\n",
      "                                                ^^^^^^^^^^^^\n",
      "  File \"/Users/jorgep/Documents/ask_public_own/snapienv/lib/python3.11/site-packages/joblib/parallel.py\", line 1650, in _get_outputs\n",
      "    yield from self._retrieve()\n",
      "  File \"/Users/jorgep/Documents/ask_public_own/snapienv/lib/python3.11/site-packages/joblib/parallel.py\", line 1754, in _retrieve\n",
      "    self._raise_error_fast()\n",
      "  File \"/Users/jorgep/Documents/ask_public_own/snapienv/lib/python3.11/site-packages/joblib/parallel.py\", line 1789, in _raise_error_fast\n",
      "    error_job.get_result(self.timeout)\n",
      "  File \"/Users/jorgep/Documents/ask_public_own/snapienv/lib/python3.11/site-packages/joblib/parallel.py\", line 745, in get_result\n",
      "    return self._return_or_raise()\n",
      "           ^^^^^^^^^^^^^^^^^^^^^^^\n",
      "  File \"/Users/jorgep/Documents/ask_public_own/snapienv/lib/python3.11/site-packages/joblib/parallel.py\", line 763, in _return_or_raise\n",
      "    raise self._result\n",
      "snapi.utils.parallel_upload.UploadError: Error in executing task (<UploadTask.UPLOAD_PART_FILE: 'upload_part_file'>, {'folder_id': 'b8c69dfa-a91d-4424-8387-eaee3e3fb167', 'file_path': 'model-00002-of-00004.safetensors', 'part_number': 132, 'chunk_size': 8388608})\n",
      "\u001b[31mAborted.\u001b[0m\n",
      "Traceback (most recent call last):\n",
      "  File \"/Users/jorgep/Documents/ask_public_own/ai-starter-kit-snova/utils/byoc/src/snsdk_byoc_wrapper.py\", line 236, in upload_checkpoints\n",
      "    result = future.result()  # This will raise the exception if the thread raised one\n",
      "             ^^^^^^^^^^^^^^^\n",
      "  File \"/Library/Frameworks/Python.framework/Versions/3.11/lib/python3.11/concurrent/futures/_base.py\", line 456, in result\n",
      "    return self.__get_result()\n",
      "           ^^^^^^^^^^^^^^^^^^^\n",
      "  File \"/Library/Frameworks/Python.framework/Versions/3.11/lib/python3.11/concurrent/futures/_base.py\", line 401, in __get_result\n",
      "    raise self._exception\n",
      "  File \"/Library/Frameworks/Python.framework/Versions/3.11/lib/python3.11/concurrent/futures/thread.py\", line 58, in run\n",
      "    result = self.fn(*self.args, **self.kwargs)\n",
      "             ^^^^^^^^^^^^^^^^^^^^^^^^^^^^^^^^^^\n",
      "  File \"/Users/jorgep/Documents/ask_public_own/ai-starter-kit-snova/utils/byoc/src/snsdk_byoc_wrapper.py\", line 185, in upload_checkpoint\n",
      "    raise Exception(f'uploading model checkpoint: {error_message}')\n",
      "Exception: uploading model checkpoint: urllib3.exceptions.SSLError: EOF occurred in violation of protocol (_ssl.c:2423)\n",
      "\n",
      "The above exception was the direct cause of the following exception:\n",
      "\n",
      "Traceback (most recent call last):\n",
      "  File \"/Users/jorgep/Documents/ask_public_own/snapienv/lib/python3.11/site-packages/requests/adapters.py\", line 667, in send\n",
      "    resp = conn.urlopen(\n",
      "           ^^^^^^^^^^^^^\n",
      "  File \"/Users/jorgep/Documents/ask_public_own/snapienv/lib/python3.11/site-packages/urllib3/connectionpool.py\", line 843, in urlopen\n",
      "    retries = retries.increment(\n",
      "              ^^^^^^^^^^^^^^^^^^\n",
      "  File \"/Users/jorgep/Documents/ask_public_own/snapienv/lib/python3.11/site-packages/urllib3/util/retry.py\", line 519, in increment\n",
      "    raise MaxRetryError(_pool, url, reason) from reason  # type: ignore[arg-type]\n",
      "    ^^^^^^^^^^^^^^^^^^^^^^^^^^^^^^^^^^^^^^^^^^^^^^^^^^^\n",
      "urllib3.exceptions.MaxRetryError: HTTPSConnectionPool(host='sjc3-tsstage.sambanova.net', port=443): Max retries exceeded with url: /api/v1beta/upload/file/model-00002-of-00004.safetensors?partNumber=132&uploadId=2841a628-dd48-4aec-8bc6-98b51f86f916&folderId=b8c69dfa-a91d-4424-8387-eaee3e3fb167 (Caused by SSLError(SSLEOFError(8, 'EOF occurred in violation of protocol (_ssl.c:2423)')))\n",
      "\n",
      "During handling of the above exception, another exception occurred:\n",
      "\n",
      "Traceback (most recent call last):\n",
      "  File \"/Users/jorgep/Documents/ask_public_own/snapienv/lib/python3.11/site-packages/snapi/utils/parallel_upload.py\", line 75, in wrapper_retry\n",
      "    return func(*args, **kwargs)\n",
      "           ^^^^^^^^^^^^^^^^^^^^^\n",
      "  File \"/Users/jorgep/Documents/ask_public_own/snapienv/lib/python3.11/site-packages/snapi/utils/parallel_upload.py\", line 388, in _upload_file_helper\n",
      "    upload_part_file_result = ctx.obj.upload_part_file(**task_args, upload_id=upload_id)\n",
      "                              ^^^^^^^^^^^^^^^^^^^^^^^^^^^^^^^^^^^^^^^^^^^^^^^^^^^^^^^^^^\n",
      "  File \"/Users/jorgep/Documents/ask_public_own/snapienv/lib/python3.11/site-packages/snsdk/__init__.py\", line 649, in upload_part_file\n",
      "    response = req_session.put(url, headers=headers, data=file, timeout=(20, 60), verify=False) #TODO\n",
      "               ^^^^^^^^^^^^^^^^^^^^^^^^^^^^^^^^^^^^^^^^^^^^^^^^^^^^^^^^^^^^^^^^^^^^^^^^^^^^^^^^\n",
      "  File \"/Users/jorgep/Documents/ask_public_own/snapienv/lib/python3.11/site-packages/requests/sessions.py\", line 649, in put\n",
      "    return self.request(\"PUT\", url, data=data, **kwargs)\n",
      "           ^^^^^^^^^^^^^^^^^^^^^^^^^^^^^^^^^^^^^^^^^^^^^\n",
      "  File \"/Users/jorgep/Documents/ask_public_own/snapienv/lib/python3.11/site-packages/requests/sessions.py\", line 589, in request\n",
      "    resp = self.send(prep, **send_kwargs)\n",
      "           ^^^^^^^^^^^^^^^^^^^^^^^^^^^^^^\n",
      "  File \"/Users/jorgep/Documents/ask_public_own/snapienv/lib/python3.11/site-packages/requests/sessions.py\", line 703, in send\n",
      "    r = adapter.send(request, **kwargs)\n",
      "        ^^^^^^^^^^^^^^^^^^^^^^^^^^^^^^^\n",
      "  File \"/Users/jorgep/Documents/ask_public_own/snapienv/lib/python3.11/site-packages/requests/adapters.py\", line 698, in send\n",
      "    raise SSLError(e, request=request)\n",
      "requests.exceptions.SSLError: HTTPSConnectionPool(host='sjc3-tsstage.sambanova.net', port=443): Max retries exceeded with url: /api/v1beta/upload/file/model-00002-of-00004.safetensors?partNumber=132&uploadId=2841a628-dd48-4aec-8bc6-98b51f86f916&folderId=b8c69dfa-a91d-4424-8387-eaee3e3fb167 (Caused by SSLError(SSLEOFError(8, 'EOF occurred in violation of protocol (_ssl.c:2423)')))\n",
      "\n",
      "The above exception was the direct cause of the following exception:\n",
      "\n",
      "Traceback (most recent call last):\n",
      "  File \"/Users/jorgep/Documents/ask_public_own/snapienv/lib/python3.11/site-packages/snapi/utils/parallel_upload.py\", line 326, in _execute_task\n",
      "    result = upload_part_file(ctx, task_args, typer, progress)\n",
      "             ^^^^^^^^^^^^^^^^^^^^^^^^^^^^^^^^^^^^^^^^^^^^^^^^^\n",
      "  File \"/Users/jorgep/Documents/ask_public_own/snapienv/lib/python3.11/site-packages/snapi/utils/parallel_upload.py\", line 426, in upload_part_file\n",
      "    raise e\n",
      "  File \"/Users/jorgep/Documents/ask_public_own/snapienv/lib/python3.11/site-packages/snapi/utils/parallel_upload.py\", line 419, in upload_part_file\n",
      "    upload_part_file_result = _upload_file_helper(ctx, task_args, upload_id)\n",
      "                              ^^^^^^^^^^^^^^^^^^^^^^^^^^^^^^^^^^^^^^^^^^^^^^\n",
      "  File \"/Users/jorgep/Documents/ask_public_own/snapienv/lib/python3.11/site-packages/snapi/utils/parallel_upload.py\", line 79, in wrapper_retry\n",
      "    raise UploadError(\"Max retries exceeded\") from e\n",
      "snapi.utils.parallel_upload.UploadError: Max retries exceeded\n",
      "joblib.externals.loky.process_executor._RemoteTraceback: \n",
      "\"\"\"\n",
      "urllib3.exceptions.SSLError: EOF occurred in violation of protocol (_ssl.c:2423)\n",
      "\n",
      "The above exception was the direct cause of the following exception:\n",
      "\n",
      "Traceback (most recent call last):\n",
      "  File \"/Users/jorgep/Documents/ask_public_own/snapienv/lib/python3.11/site-packages/requests/adapters.py\", line 667, in send\n",
      "    resp = conn.urlopen(\n",
      "           ^^^^^^^^^^^^^\n",
      "  File \"/Users/jorgep/Documents/ask_public_own/snapienv/lib/python3.11/site-packages/urllib3/connectionpool.py\", line 843, in urlopen\n",
      "    retries = retries.increment(\n",
      "              ^^^^^^^^^^^^^^^^^^\n",
      "  File \"/Users/jorgep/Documents/ask_public_own/snapienv/lib/python3.11/site-packages/urllib3/util/retry.py\", line 519, in increment\n",
      "    raise MaxRetryError(_pool, url, reason) from reason  # type: ignore[arg-type]\n",
      "    ^^^^^^^^^^^^^^^^^^^^^^^^^^^^^^^^^^^^^^^^^^^^^^^^^^^\n",
      "urllib3.exceptions.MaxRetryError: HTTPSConnectionPool(host='sjc3-tsstage.sambanova.net', port=443): Max retries exceeded with url: /api/v1beta/upload/file/model-00002-of-00004.safetensors?partNumber=132&uploadId=2841a628-dd48-4aec-8bc6-98b51f86f916&folderId=b8c69dfa-a91d-4424-8387-eaee3e3fb167 (Caused by SSLError(SSLEOFError(8, 'EOF occurred in violation of protocol (_ssl.c:2423)')))\n",
      "\n",
      "During handling of the above exception, another exception occurred:\n",
      "\n",
      "Traceback (most recent call last):\n",
      "  File \"/Users/jorgep/Documents/ask_public_own/snapienv/lib/python3.11/site-packages/snapi/utils/parallel_upload.py\", line 75, in wrapper_retry\n",
      "    return func(*args, **kwargs)\n",
      "           ^^^^^^^^^^^^^^^^^^^^^\n",
      "  File \"/Users/jorgep/Documents/ask_public_own/snapienv/lib/python3.11/site-packages/snapi/utils/parallel_upload.py\", line 388, in _upload_file_helper\n",
      "    upload_part_file_result = ctx.obj.upload_part_file(**task_args, upload_id=upload_id)\n",
      "                              ^^^^^^^^^^^^^^^^^^^^^^^^^^^^^^^^^^^^^^^^^^^^^^^^^^^^^^^^^^\n",
      "  File \"/Users/jorgep/Documents/ask_public_own/snapienv/lib/python3.11/site-packages/snsdk/__init__.py\", line 649, in upload_part_file\n",
      "    response = req_session.put(url, headers=headers, data=file, timeout=(20, 60), verify=False) #TODO\n",
      "               ^^^^^^^^^^^^^^^^^^^^^^^^^^^^^^^^^^^^^^^^^^^^^^^^^^^^^^^^^^^^^^^^^^^^^^^^^^^^^^^^\n",
      "  File \"/Users/jorgep/Documents/ask_public_own/snapienv/lib/python3.11/site-packages/requests/sessions.py\", line 649, in put\n",
      "    return self.request(\"PUT\", url, data=data, **kwargs)\n",
      "           ^^^^^^^^^^^^^^^^^^^^^^^^^^^^^^^^^^^^^^^^^^^^^\n",
      "  File \"/Users/jorgep/Documents/ask_public_own/snapienv/lib/python3.11/site-packages/requests/sessions.py\", line 589, in request\n",
      "    resp = self.send(prep, **send_kwargs)\n",
      "           ^^^^^^^^^^^^^^^^^^^^^^^^^^^^^^\n",
      "  File \"/Users/jorgep/Documents/ask_public_own/snapienv/lib/python3.11/site-packages/requests/sessions.py\", line 703, in send\n",
      "    r = adapter.send(request, **kwargs)\n",
      "        ^^^^^^^^^^^^^^^^^^^^^^^^^^^^^^^\n",
      "  File \"/Users/jorgep/Documents/ask_public_own/snapienv/lib/python3.11/site-packages/requests/adapters.py\", line 698, in send\n",
      "    raise SSLError(e, request=request)\n",
      "requests.exceptions.SSLError: HTTPSConnectionPool(host='sjc3-tsstage.sambanova.net', port=443): Max retries exceeded with url: /api/v1beta/upload/file/model-00002-of-00004.safetensors?partNumber=132&uploadId=2841a628-dd48-4aec-8bc6-98b51f86f916&folderId=b8c69dfa-a91d-4424-8387-eaee3e3fb167 (Caused by SSLError(SSLEOFError(8, 'EOF occurred in violation of protocol (_ssl.c:2423)')))\n",
      "\n",
      "The above exception was the direct cause of the following exception:\n",
      "\n",
      "Traceback (most recent call last):\n",
      "  File \"/Users/jorgep/Documents/ask_public_own/snapienv/lib/python3.11/site-packages/snapi/utils/parallel_upload.py\", line 326, in _execute_task\n",
      "    result = upload_part_file(ctx, task_args, typer, progress)\n",
      "             ^^^^^^^^^^^^^^^^^^^^^^^^^^^^^^^^^^^^^^^^^^^^^^^^^\n",
      "  File \"/Users/jorgep/Documents/ask_public_own/snapienv/lib/python3.11/site-packages/snapi/utils/parallel_upload.py\", line 426, in upload_part_file\n",
      "    raise e\n",
      "  File \"/Users/jorgep/Documents/ask_public_own/snapienv/lib/python3.11/site-packages/snapi/utils/parallel_upload.py\", line 419, in upload_part_file\n",
      "    upload_part_file_result = _upload_file_helper(ctx, task_args, upload_id)\n",
      "                              ^^^^^^^^^^^^^^^^^^^^^^^^^^^^^^^^^^^^^^^^^^^^^^\n",
      "  File \"/Users/jorgep/Documents/ask_public_own/snapienv/lib/python3.11/site-packages/snapi/utils/parallel_upload.py\", line 79, in wrapper_retry\n",
      "    raise UploadError(\"Max retries exceeded\") from e\n",
      "snapi.utils.parallel_upload.UploadError: Max retries exceeded\n",
      "\n",
      "The above exception was the direct cause of the following exception:\n",
      "\n",
      "Traceback (most recent call last):\n",
      "  File \"/Users/jorgep/Documents/ask_public_own/snapienv/lib/python3.11/site-packages/joblib/_utils.py\", line 72, in __call__\n",
      "    return self.func(**kwargs)\n",
      "           ^^^^^^^^^^^^^^^^^^^\n",
      "  File \"/Users/jorgep/Documents/ask_public_own/snapienv/lib/python3.11/site-packages/joblib/parallel.py\", line 598, in __call__\n",
      "    return [func(*args, **kwargs)\n",
      "           ^^^^^^^^^^^^^^^^^^^^^^\n",
      "  File \"/Users/jorgep/Documents/ask_public_own/snapienv/lib/python3.11/site-packages/joblib/parallel.py\", line 598, in <listcomp>\n",
      "    return [func(*args, **kwargs)\n",
      "            ^^^^^^^^^^^^^^^^^^^^^\n",
      "  File \"/Users/jorgep/Documents/ask_public_own/snapienv/lib/python3.11/site-packages/snapi/utils/parallel_upload.py\", line 335, in _execute_task\n",
      "    raise UploadError(f\"Error in executing task {log_task}\") from e\n",
      "snapi.utils.parallel_upload.UploadError: Error in executing task (<UploadTask.UPLOAD_PART_FILE: 'upload_part_file'>, {'folder_id': 'b8c69dfa-a91d-4424-8387-eaee3e3fb167', 'file_path': 'model-00002-of-00004.safetensors', 'part_number': 132, 'chunk_size': 8388608})\n",
      "\"\"\"\n",
      "\n",
      "The above exception was the direct cause of the following exception:\n",
      "\n",
      "Traceback (most recent call last):\n",
      "  File \"/Users/jorgep/Documents/ask_public_own/snapienv/lib/python3.11/site-packages/snapi/utils/parallel_upload.py\", line 129, in parallel_upload\n",
      "    Parallel(n_jobs=num_parallel, prefer=\"threads\")(\n",
      "  File \"/Users/jorgep/Documents/ask_public_own/snapienv/lib/python3.11/site-packages/joblib/parallel.py\", line 2007, in __call__\n",
      "    return output if self.return_generator else list(output)\n",
      "                                                ^^^^^^^^^^^^\n",
      "  File \"/Users/jorgep/Documents/ask_public_own/snapienv/lib/python3.11/site-packages/joblib/parallel.py\", line 1650, in _get_outputs\n",
      "    yield from self._retrieve()\n",
      "  File \"/Users/jorgep/Documents/ask_public_own/snapienv/lib/python3.11/site-packages/joblib/parallel.py\", line 1754, in _retrieve\n",
      "    self._raise_error_fast()\n",
      "  File \"/Users/jorgep/Documents/ask_public_own/snapienv/lib/python3.11/site-packages/joblib/parallel.py\", line 1789, in _raise_error_fast\n",
      "    error_job.get_result(self.timeout)\n",
      "  File \"/Users/jorgep/Documents/ask_public_own/snapienv/lib/python3.11/site-packages/joblib/parallel.py\", line 745, in get_result\n",
      "    return self._return_or_raise()\n",
      "           ^^^^^^^^^^^^^^^^^^^^^^^\n",
      "  File \"/Users/jorgep/Documents/ask_public_own/snapienv/lib/python3.11/site-packages/joblib/parallel.py\", line 763, in _return_or_raise\n",
      "    raise self._result\n",
      "snapi.utils.parallel_upload.UploadError: Error in executing task (<UploadTask.UPLOAD_PART_FILE: 'upload_part_file'>, {'folder_id': 'b8c69dfa-a91d-4424-8387-eaee3e3fb167', 'file_path': 'model-00002-of-00004.safetensors', 'part_number': 132, 'chunk_size': 8388608})\n",
      "\u001b[31mAborted.\u001b[0m\n",
      "\n"
     ]
    }
   ],
   "source": [
    "byoc.upload_checkpoints()"
   ]
  },
  {
   "cell_type": "code",
   "execution_count": 2,
   "metadata": {},
   "outputs": [
    {
     "name": "stderr",
     "output_type": "stream",
     "text": [
      "2024-11-01 11:01:06,370 [INFO] Model with name 'HermesProInstructV10' found with id 91c93f34-5ba4-4248-be6f-7aba79da3689\n",
      "2024-11-01 11:01:06,373 [INFO] Model checkpoint with name 'HermesProInstructV10' not created it already exist with id 91c93f34-5ba4-4248-be6f-7aba79da3689\n",
      "2024-11-01 11:01:06,375 [INFO] Checkpoint for model HermesProInstructV10 finished successfully with result 91c93f34-5ba4-4248-be6f-7aba79da3689 \n"
     ]
    }
   ],
   "source": [
    "byoc.upload_checkpoints()"
   ]
  },
  {
   "cell_type": "markdown",
   "metadata": {},
   "source": [
    "You can check the status of the checkpoints after the upload process"
   ]
  },
  {
   "cell_type": "code",
   "execution_count": 2,
   "metadata": {},
   "outputs": [
    {
     "name": "stderr",
     "output_type": "stream",
     "text": [
      "2024-11-04 10:58:47,648 [INFO] model HermesProInstructV10 status: \n",
      " {'model_id': '91c93f34-5ba4-4248-be6f-7aba79da3689', 'status': 'Available', 'progress': 100, 'stage': 'convert', 'status_code': 200}\n"
     ]
    }
   ],
   "source": [
    "byoc.get_checkpoints_status()"
   ]
  },
  {
   "cell_type": "markdown",
   "metadata": {},
   "source": [
    "We can create a bundle model including uploaded and existing checkpoints in sambastudio setting `composite_model` params in [config.yaml](./config.yaml) file"
   ]
  },
  {
   "cell_type": "code",
   "execution_count": 2,
   "metadata": {},
   "outputs": [
    {
     "name": "stderr",
     "output_type": "stream",
     "text": [
      "2024-11-01 08:31:23,695 [INFO] Project with name 'TestByocCoE' not found\n",
      "2024-11-01 08:31:23,879 [INFO] Model with name 'Meta-Llama-3-8B-Instruct' found with id b16efa3a-90a9-4708-b963-ffd5306780e5\n",
      "2024-11-01 08:31:24,077 [INFO] Model with name 'e5-mistral-7b-instruct' found with id 386f59fc-466f-4f2c-a681-72bfefe8b21d\n",
      "2024-11-01 08:31:24,256 [INFO] Model with name 'HermesProInstructV10' found with id 91c93f34-5ba4-4248-be6f-7aba79da3689\n",
      "2024-11-01 08:31:24,256 [INFO] Models to include in composite found with ids '[('Meta-Llama-3-8B-Instruct', 'b16efa3a-90a9-4708-b963-ffd5306780e5'), ('e5-mistral-7b-instruct', '386f59fc-466f-4f2c-a681-72bfefe8b21d'), ('HermesProInstructV10', '91c93f34-5ba4-4248-be6f-7aba79da3689')]\n",
      "2024-11-01 08:31:24,654 [INFO] Composite model with name TestByocCoE created with id 8cdfe3f0-651f-4611-a000-4ab6e7197eb3\n"
     ]
    },
    {
     "data": {
      "text/plain": [
       "'8cdfe3f0-651f-4611-a000-4ab6e7197eb3'"
      ]
     },
     "execution_count": 2,
     "metadata": {},
     "output_type": "execute_result"
    }
   ],
   "source": [
    "byoc.create_composite_model()"
   ]
  },
  {
   "cell_type": "markdown",
   "metadata": {},
   "source": [
    "Then we can deploy the bundle model, setting `deployement` params in [config.yaml](./config.yaml) file"
   ]
  },
  {
   "cell_type": "code",
   "execution_count": 2,
   "metadata": {},
   "outputs": [
    {
     "name": "stderr",
     "output_type": "stream",
     "text": [
      "2024-11-01 08:34:59,776 [INFO] Project with name 'example-byoc-project' not found\n",
      "2024-11-01 08:34:59,949 [INFO] Project with name example-byoc-project created with id 9d17a0b5-b0f1-478c-9edb-51e8c93fd492\n"
     ]
    },
    {
     "data": {
      "text/plain": [
       "'9d17a0b5-b0f1-478c-9edb-51e8c93fd492'"
      ]
     },
     "execution_count": 2,
     "metadata": {},
     "output_type": "execute_result"
    }
   ],
   "source": [
    "# create project\n",
    "byoc.create_project()"
   ]
  },
  {
   "cell_type": "code",
   "execution_count": 2,
   "metadata": {},
   "outputs": [
    {
     "name": "stderr",
     "output_type": "stream",
     "text": [
      "2024-11-05 09:32:13,279 [INFO] Project with name 'example-byoc-project' found with id 9d17a0b5-b0f1-478c-9edb-51e8c93fd492\n",
      "2024-11-05 09:32:13,456 [INFO] Model with name 'TestByocCoE' found with id 8cdfe3f0-651f-4611-a000-4ab6e7197eb3\n",
      "2024-11-05 09:32:13,621 [INFO] Endpoint with name 'test-endpoint-byoc' not created it already exist with id 0da58115-fbc7-4c81-9ec0-543980c49e06\n"
     ]
    },
    {
     "data": {
      "text/plain": [
       "'0da58115-fbc7-4c81-9ec0-543980c49e06'"
      ]
     },
     "execution_count": 2,
     "metadata": {},
     "output_type": "execute_result"
    }
   ],
   "source": [
    "# deploy your model in an endpoint\n",
    "byoc.create_endpoint()"
   ]
  },
  {
   "cell_type": "code",
   "execution_count": 12,
   "metadata": {},
   "outputs": [
    {
     "name": "stderr",
     "output_type": "stream",
     "text": [
      "2024-11-05 09:28:57,562 [INFO] Project with name 'example-byoc-project' found with id 9d17a0b5-b0f1-478c-9edb-51e8c93fd492\n"
     ]
    },
    {
     "data": {
      "text/plain": [
       "{'status': 'SettingUp',\n",
       " 'url': '/api/predict/generic/9d17a0b5-b0f1-478c-9edb-51e8c93fd492/d10b6827-4d9a-4208-8018-648262fd4601',\n",
       " 'langchain wrapper env': {'SAMBASTUDIO_URL': '**************************************',\n",
       "  'SAMBASTUDIO_API_KEY': '***********************'}}"
      ]
     },
     "execution_count": 12,
     "metadata": {},
     "output_type": "execute_result"
    }
   ],
   "source": [
    "# get endpoint details\n",
    "byoc.get_endpoint_details()"
   ]
  },
  {
   "cell_type": "markdown",
   "metadata": {},
   "source": [
    "Use the models"
   ]
  },
  {
   "cell_type": "code",
   "execution_count": 11,
   "metadata": {},
   "outputs": [
    {
     "name": "stderr",
     "output_type": "stream",
     "text": [
      "2024-11-05 09:31:36,059 [INFO] Project with name 'example-byoc-project' found with id 9d17a0b5-b0f1-478c-9edb-51e8c93fd492\n"
     ]
    },
    {
     "name": "stdout",
     "output_type": "stream",
     "text": [
      "Here's one:\n",
      "\n",
      "Why don't scientists trust atoms?\n",
      "\n",
      "Because they make up everything!\n"
     ]
    }
   ],
   "source": [
    "from langchain_community.chat_models import ChatSambaStudio\n",
    "\n",
    "endpoint_details = byoc.get_endpoint_details()\n",
    "endpoint_url = endpoint_details[\"langchain_wrapper_env\"].get(\"SAMBASTUDIO_URL\")\n",
    "endpoint_api_key = endpoint_details[\"langchain_wrapper_env\"].get(\"SAMBASTUDIO_API_KEY\")\n",
    "\n",
    "llm = ChatSambaStudio(\n",
    "    sambastudio_url=endpoint_url,\n",
    "    sambastudio_api_key=endpoint_api_key,\n",
    "    do_sample= True, \n",
    "    temperature= 0.01,\n",
    "    max_tokens= 512,\n",
    "    top_p= 1.0,\n",
    "    top_k= 50,\n",
    "    process_prompt=False,\n",
    "    model= \"HermesProInstructV10\"\n",
    ")\n",
    "print(llm.invoke(\"tell me a joke\").content)"
   ]
  }
 ],
 "metadata": {
  "kernelspec": {
   "display_name": "snapienv",
   "language": "python",
   "name": "python3"
  },
  "language_info": {
   "codemirror_mode": {
    "name": "ipython",
    "version": 3
   },
   "file_extension": ".py",
   "mimetype": "text/x-python",
   "name": "python",
   "nbconvert_exporter": "python",
   "pygments_lexer": "ipython3",
   "version": "3.11.3"
  }
 },
 "nbformat": 4,
 "nbformat_minor": 2
}
